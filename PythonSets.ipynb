{
 "cells": [
  {
   "cell_type": "code",
   "execution_count": null,
   "metadata": {},
   "outputs": [],
   "source": [
    "#Python Sets\n",
    "#Sets are used to store multiple items in a single variable.\n",
    "myset = {\"apple\",\"Banan\", \"Cherry\"}\n",
    "print(myset)\n",
    "\n",
    "#Duplicate not allowed\n",
    "thisset = {\"apple\",\"banana\",\"cherry\",\"apple\"}\n",
    "print(thisset)\n",
    "\n",
    "thisset = {\"apple\",\"banana\",\"cherry\",True,1,2}\n",
    "print(thisset)\n",
    "# Note: The values True and 1 are considered the same value in sets, and are treated as duplicates:\n",
    "\n",
    "#Get the Length of set\n",
    "thisset = {\"apple\",\"banana\",\"cherry\"}\n",
    "print(len(thisset))\n",
    "\n",
    "#Set Items - Data types\n",
    "set1 ={\"apple\",\"banana\", \"cherry\"}\n",
    "set2 = {1,2,5,7,8}\n",
    "set3 = {True, False, False}\n",
    "print(set1)\n",
    "print(set2)\n",
    "print(set3)\n",
    "\n",
    "set1 = {\"abc\",34,True,40,\"male\"}\n",
    "print(set1)\n",
    "\n",
    "#Type()\n",
    "myset = {\"apple\",\"banana\",\"cherry\"}\n",
    "print(type(myset))\n",
    "\n",
    "#The set() constructor\n",
    "thisset = set((\"apple\", \"banana\", \"cherry\")) # note the double round-brackets\n",
    "print(thisset)"
   ]
  },
  {
   "cell_type": "code",
   "execution_count": 2,
   "metadata": {},
   "outputs": [
    {
     "name": "stdout",
     "output_type": "stream",
     "text": [
      "apple\n",
      "cherry\n",
      "banana\n",
      "True\n"
     ]
    }
   ],
   "source": [
    "#Python Access Set Items\n",
    "#Access Items\n",
    "thisset = {\"apple\", \"banana\", \"cherry\"}\n",
    "for x in thisset:\n",
    "    print(x)\n",
    "\n",
    "#other example\n",
    "print(\"banana\" in thisset)"
   ]
  },
  {
   "cell_type": "code",
   "execution_count": 7,
   "metadata": {},
   "outputs": [
    {
     "name": "stdout",
     "output_type": "stream",
     "text": [
      "{'apple', 'orange', 'cherry', 'banana'}\n",
      "{'pinaple', 'banana', 'papaya', 'apple', 'manggo', 'cherry'}\n",
      "{'kiwi', 'orange', 'banana', 'apple', 'cherry'}\n"
     ]
    }
   ],
   "source": [
    "#Python Add set Items\n",
    "#Add items\n",
    "thisset = {\"apple\",\"banana\",\"cherry\"}\n",
    "thisset.add(\"orange\")\n",
    "print(thisset)\n",
    "\n",
    "#Add sets\n",
    "thisset = {\"apple\", \"banana\", \"cherry\"}\n",
    "tropical = {\"pinaple\", \"manggo\", \"papaya\"}\n",
    "thisset.update(tropical)\n",
    "print(thisset)\n",
    "\n",
    "#Add any Iterable\n",
    "thisset = {\"apple\", \"banana\", \"cherry\"}\n",
    "mylist = [\"kiwi\",\"orange\"]\n",
    "thisset.update(mylist)\n",
    "print(thisset)"
   ]
  },
  {
   "cell_type": "code",
   "execution_count": 11,
   "metadata": {},
   "outputs": [
    {
     "name": "stdout",
     "output_type": "stream",
     "text": [
      "{'apple', 'cherry'}\n",
      "apple\n",
      "{'cherry', 'banana'}\n",
      "clear()\n",
      "set()\n"
     ]
    }
   ],
   "source": [
    "#Python - Remove Set items\n",
    "#Remove Item\n",
    "thisset = {\"apple\", \"banana\", \"cherry\"}\n",
    "thisset.remove(\"banana\")\n",
    "print(thisset)\n",
    "\n",
    "#POP\n",
    "thisset = {\"apple\", \"banana\", \"cherry\"}\n",
    "x=thisset.pop()\n",
    "print(x)\n",
    "print(thisset)\n",
    "\n",
    "#Clear()\n",
    "thisset = {\"apple\", \"banana\", \"cherry\"}\n",
    "thisset.clear()\n",
    "print(\"clear()\")\n",
    "print(thisset)"
   ]
  },
  {
   "cell_type": "code",
   "execution_count": 12,
   "metadata": {},
   "outputs": [
    {
     "name": "stdout",
     "output_type": "stream",
     "text": [
      "apple\n",
      "cherry\n",
      "banana\n"
     ]
    }
   ],
   "source": [
    "#Python - Loop Sets\n",
    "#loop Items\n",
    "thisset = {\"apple\", \"banana\", \"cherry\"}\n",
    "for x in thisset:\n",
    "    print(x)"
   ]
  },
  {
   "cell_type": "code",
   "execution_count": 15,
   "metadata": {},
   "outputs": [
    {
     "name": "stdout",
     "output_type": "stream",
     "text": [
      "{1, 2, 3, 'a', 'c', 'b'}\n",
      "{'apple'}\n",
      "{'microsoft', 'banana', 'google', 'cherry'}\n"
     ]
    }
   ],
   "source": [
    "#Python Join Sets\n",
    "#Join Two Sets\n",
    "# You can use the union() method that returns a new set containing all items from both sets, or the update() method that inserts all the items from one set into another:\n",
    "set1 = {\"a\",\"b\",\"c\"}\n",
    "set2 = {1,2,3}\n",
    "set3 = set1.union(set2)\n",
    "print(set3)\n",
    "\n",
    "#keep Only Duplicate\n",
    "#The intersection_update() method will keep only the items that are present in both sets.\n",
    "x = {\"apple\", \"banana\", \"cherry\"}\n",
    "y = {\"google\", \"microsoft\", \"apple\"}\n",
    "\n",
    "x.intersection_update(y)\n",
    "print(x)\n",
    "\n",
    "#Keep All, But NOT the Duplicates\n",
    "#The symmetric_difference_update() method will keep only the elements that are NOT present in both sets.\n",
    "x = {\"apple\", \"banana\", \"cherry\"}\n",
    "y = {\"google\", \"microsoft\", \"apple\"}\n",
    "\n",
    "x.symmetric_difference_update(y)\n",
    "print(x)"
   ]
  },
  {
   "cell_type": "code",
   "execution_count": 4,
   "metadata": {},
   "outputs": [
    {
     "name": "stdout",
     "output_type": "stream",
     "text": [
      "{'Red', 'Blue', 'Orange', 'Green', 'Black', 'Yellow'}\n"
     ]
    }
   ],
   "source": [
    "#EXCERCISE\n",
    "#Exercise 1: Add a list of elements to a set\n",
    "set1 = {\"Yellow\",\"Orange\",\"Black\"}\n",
    "setList =[\"Blue\",\"Green\",\"Red\"]\n",
    "\n",
    "set1.update(setList)\n",
    "print(set1)"
   ]
  },
  {
   "cell_type": "code",
   "execution_count": 11,
   "metadata": {},
   "outputs": [
    {
     "name": "stdout",
     "output_type": "stream",
     "text": [
      "{40, 50, 30}\n"
     ]
    }
   ],
   "source": [
    "# Exercise 2: Return a new set of identical items from two sets\n",
    "set1 = {10,20,30,40,50}\n",
    "set2 = {30,40,50,60,70}\n",
    "\n",
    "print(set1.intersection(set2))"
   ]
  },
  {
   "cell_type": "code",
   "execution_count": 12,
   "metadata": {},
   "outputs": [
    {
     "name": "stdout",
     "output_type": "stream",
     "text": [
      "{70, 40, 10, 50, 20, 60, 30}\n"
     ]
    }
   ],
   "source": [
    "# Exercise 3: Get Only unique items from two sets\n",
    "set1 = {10,20,30,40,50}\n",
    "set2 = {30,40,50,60,70}\n",
    "\n",
    "print(set1.union(set2))"
   ]
  },
  {
   "cell_type": "code",
   "execution_count": 14,
   "metadata": {},
   "outputs": [
    {
     "name": "stdout",
     "output_type": "stream",
     "text": [
      "{10, 30}\n"
     ]
    }
   ],
   "source": [
    "#Exercise 4: Update the first set with items that don’t exist in the second set\n",
    "set1 = {10, 20, 30}\n",
    "set2 = {20, 40, 50}\n",
    "set1.difference_update(set2)\n",
    "print(set1)"
   ]
  },
  {
   "cell_type": "code",
   "execution_count": 21,
   "metadata": {},
   "outputs": [
    {
     "name": "stdout",
     "output_type": "stream",
     "text": [
      "{50, 40}\n"
     ]
    }
   ],
   "source": [
    "# Exercise 5: Remove items from the set at once\n",
    "set1 = {10,20,30,40,50}\n",
    "set1.difference_update({10,20,30})\n",
    "print(set1)"
   ]
  },
  {
   "cell_type": "code",
   "execution_count": 25,
   "metadata": {},
   "outputs": [
    {
     "name": "stdout",
     "output_type": "stream",
     "text": [
      "{20, 70, 10, 60}\n"
     ]
    }
   ],
   "source": [
    "# Exercise 6: Return a set of elements present in Set A or B, but not both\n",
    "set1 = {10, 20, 30, 40, 50}\n",
    "set2 = {30, 40, 50, 60, 70}\n",
    "print(set1.symmetric_difference(set2))"
   ]
  },
  {
   "cell_type": "code",
   "execution_count": 27,
   "metadata": {},
   "outputs": [
    {
     "name": "stdout",
     "output_type": "stream",
     "text": [
      "{10}\n",
      "False\n"
     ]
    }
   ],
   "source": [
    "#Exercise 7: Check if two sets have any elements in common. If yes, display the common elements\n",
    "set1 = {10, 20, 30, 40, 50}\n",
    "set2 = {60, 70, 80, 90, 10}\n",
    "# Use the isdisjoint() method check if sets has a common elements\n",
    "# If above condition is true then use the intersection() method to display common elements\n",
    "print(set1.isdisjoint(set2))\n",
    "print(set1.intersection(set2))\n"
   ]
  },
  {
   "cell_type": "code",
   "execution_count": 30,
   "metadata": {},
   "outputs": [
    {
     "name": "stdout",
     "output_type": "stream",
     "text": [
      "{20, 70, 10, 60}\n"
     ]
    }
   ],
   "source": [
    "#Exercise 8: Update set1 by adding items from set2, except common items\n",
    "set1 = {10, 20, 30, 40, 50}\n",
    "set2 = {30, 40, 50, 60, 70}\n",
    "set1.symmetric_difference_update(set2)\n",
    "print(set1)"
   ]
  },
  {
   "cell_type": "code",
   "execution_count": 31,
   "metadata": {},
   "outputs": [
    {
     "name": "stdout",
     "output_type": "stream",
     "text": [
      "{40, 50, 30}\n"
     ]
    }
   ],
   "source": [
    "#Exercise 9: Remove items from set1 that are not common to both set1 and set2\n",
    "set1 = {10, 20, 30, 40, 50}\n",
    "set2 = {30, 40, 50, 60, 70}\n",
    "set1.intersection_update(set2)\n",
    "print(set1)"
   ]
  }
 ],
 "metadata": {
  "kernelspec": {
   "display_name": "Python 3",
   "language": "python",
   "name": "python3"
  },
  "language_info": {
   "codemirror_mode": {
    "name": "ipython",
    "version": 3
   },
   "file_extension": ".py",
   "mimetype": "text/x-python",
   "name": "python",
   "nbconvert_exporter": "python",
   "pygments_lexer": "ipython3",
   "version": "3.11.4"
  },
  "orig_nbformat": 4
 },
 "nbformat": 4,
 "nbformat_minor": 2
}
