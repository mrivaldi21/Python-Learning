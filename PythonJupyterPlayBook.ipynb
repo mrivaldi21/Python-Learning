{
 "cells": [
  {
   "cell_type": "code",
   "execution_count": 1,
   "metadata": {},
   "outputs": [
    {
     "name": "stdout",
     "output_type": "stream",
     "text": [
      "hellow world\n"
     ]
    }
   ],
   "source": [
    "# print command\n",
    "print(\"hellow world\")"
   ]
  },
  {
   "cell_type": "code",
   "execution_count": 4,
   "metadata": {},
   "outputs": [
    {
     "data": {
      "text/plain": [
       "'thi is an example of long commend \\nwith multiple line\\n'"
      ]
     },
     "execution_count": 4,
     "metadata": {},
     "output_type": "execute_result"
    }
   ],
   "source": [
    "# singel line commend\n",
    "\"\"\"thi is an example of long commend \n",
    "with multiple line\n",
    "\"\"\""
   ]
  },
  {
   "cell_type": "code",
   "execution_count": 8,
   "metadata": {},
   "outputs": [
    {
     "name": "stdout",
     "output_type": "stream",
     "text": [
      "5\n",
      "hello\n",
      "3 3 3.0\n",
      "<class 'int'>\n",
      "<class 'str'>\n"
     ]
    }
   ],
   "source": [
    "#Python Variables\n",
    "# Creating variables\n",
    "x=5\n",
    "y=\"hello\"\n",
    "print(x)\n",
    "print(y)\n",
    "\n",
    "# Casting\n",
    "x= str(3)\n",
    "y=int(3)\n",
    "z=float(3)\n",
    "print(x,y,z)\n",
    "\n",
    "#Get Type\n",
    "x=5\n",
    "y=\"jonh\"\n",
    "print(type(x))\n",
    "print(type(y))\n",
    "\n",
    "#Single or Double Quotes?\n",
    "x=\"john\"\n",
    "x='john'\n"
   ]
  },
  {
   "cell_type": "code",
   "execution_count": 13,
   "metadata": {},
   "outputs": [
    {
     "name": "stdout",
     "output_type": "stream",
     "text": [
      "orange\n",
      "banan\n",
      "4\n",
      "orange\n",
      "orange\n",
      "orange\n",
      "['apple']\n",
      "['banan']\n",
      "['tangerin']\n"
     ]
    }
   ],
   "source": [
    "# Python - Variable Names\n",
    "#Legal Variable Names\n",
    "myvar = \"John\"\n",
    "my_var = \"John\"\n",
    "_my_var = \"John\"\n",
    "myVar = \"John\"\n",
    "MYVAR = \"John\"\n",
    "myvar2 = \"John\"\n",
    "\n",
    "# Many Values to Multiple Variables\n",
    "x,y,z = \"orange\",\"banan\",4\n",
    "print(x)\n",
    "print(y)\n",
    "print(z)\n",
    "\n",
    "#One Value to Multiple Variables\n",
    "x=y=z = \"orange\"\n",
    "print(x)\n",
    "print(y)\n",
    "print(z)\n",
    "\n",
    "#Unpack a Collection\n",
    "fruits = [\"apple\"],[\"banan\"],[\"tangerin\"]\n",
    "x,y,z=fruits\n",
    "print(x)\n",
    "print(y)\n",
    "print(z)"
   ]
  },
  {
   "cell_type": "code",
   "execution_count": 15,
   "metadata": {},
   "outputs": [
    {
     "name": "stdout",
     "output_type": "stream",
     "text": [
      "Python is awesome\n",
      "Python is awesome\n"
     ]
    }
   ],
   "source": [
    "#Python - Output Variables\n",
    "#Output Variables\n",
    "x=\"Python is awesome\"\n",
    "print(x)\n",
    "x = \"Python\"\n",
    "y= \"is\"\n",
    "z= \"awesome\"\n",
    "print(x,y,z)"
   ]
  },
  {
   "cell_type": "code",
   "execution_count": 19,
   "metadata": {},
   "outputs": [
    {
     "name": "stdout",
     "output_type": "stream",
     "text": [
      "Python is Awesome\n",
      "Python is fantastica\n",
      "Python is fantastic\n"
     ]
    }
   ],
   "source": [
    "# Python - Global Variables\n",
    "# Global Variables\n",
    "x=\"Awesome\"\n",
    "def myfunc():\n",
    "    print(\"Python is \"+x)\n",
    "myfunc()\n",
    "\n",
    "#The global Keyword\n",
    "def myfunc():\n",
    "    global x\n",
    "    x = \"fantastica\"\n",
    "\n",
    "myfunc()\n",
    "print(\"Python is \"+ x)\n"
   ]
  },
  {
   "cell_type": "code",
   "execution_count": 27,
   "metadata": {},
   "outputs": [
    {
     "name": "stdout",
     "output_type": "stream",
     "text": [
      "<class 'tuple'>\n",
      "5.0\n"
     ]
    }
   ],
   "source": [
    "#Python Data Types\n",
    "#Built-in Data Types\n",
    "\"\"\"\n",
    "Text Type:\tstr\n",
    "Numeric Types:\tint, float, complex\n",
    "Sequence Types:\tlist, tuple, range\n",
    "Mapping Type:\tdict\n",
    "Set Types:\tset, frozenset\n",
    "Boolean Type:\tbool\n",
    "Binary Types:\tbytes, bytearray, memoryview\n",
    "None Type:\tNoneType\n",
    "\"\"\"\n",
    "\n",
    "x= (\"bnanan\",\"apple\")\n",
    "print(type(x))\n",
    "\n",
    "#Casting\n",
    "x=5\n",
    "print(float(x))"
   ]
  },
  {
   "cell_type": "code",
   "execution_count": 39,
   "metadata": {},
   "outputs": [
    {
     "name": "stdout",
     "output_type": "stream",
     "text": [
      "<class 'int'>\n",
      "<class 'float'>\n",
      "<class 'complex'>\n",
      "1.0\n",
      "2\n",
      "(1+0j)\n",
      "<class 'float'>\n",
      "<class 'int'>\n",
      "<class 'complex'>\n",
      "6\n"
     ]
    }
   ],
   "source": [
    "#Python Numbers\n",
    "#number type in Python include\n",
    "# int\n",
    "# float\n",
    "# complex\n",
    "x= 1\n",
    "y=2.8\n",
    "z=1j\n",
    "print(type(x))\n",
    "print(type(y))\n",
    "print(type(z))\n",
    "\n",
    "#Type conversion\n",
    "x=1\n",
    "y=2.8\n",
    "z=1j\n",
    "\n",
    "#convert from int to float\n",
    "a=float(x)\n",
    "\n",
    "#convert from float to int\n",
    "b=int(y)\n",
    "\n",
    "#convert from int to complex\n",
    "c=complex(x)\n",
    "\n",
    "print(a)\n",
    "print(b)\n",
    "print(c)\n",
    "\n",
    "print(type(a))\n",
    "print(type(b))\n",
    "print(type(c)) #Note: You cannot convert complex numbers into another number type.\n",
    "\n",
    "#Random number\n",
    "import random\n",
    "print(random.randrange(1,10))"
   ]
  },
  {
   "cell_type": "code",
   "execution_count": 52,
   "metadata": {},
   "outputs": [
    {
     "name": "stdout",
     "output_type": "stream",
     "text": [
      "jello\n",
      "world\n",
      "Loremipsum\n",
      "dagoan kadinya\n",
      "akjshujkl alksdhfn\n",
      "this is an exalpe\n",
      "of multiple \n",
      "line string in python\n",
      "l\n",
      "b\n",
      "a\n",
      "n\n",
      "a\n",
      "n\n",
      "13\n",
      "True\n",
      "No AI is not present\n"
     ]
    }
   ],
   "source": [
    "# Python Strings\n",
    "# String\n",
    "print(\"jello\")\n",
    "\n",
    "#Assign String to a Variable\n",
    "a= \"world\"\n",
    "print(a)\n",
    "\n",
    "# Multiline Strings\n",
    "a= \"\"\"Loremipsum\n",
    "dagoan kadinya\n",
    "akjshujkl alksdhfn\"\"\"\n",
    "print(a)\n",
    "b='''this is an exalpe\n",
    "of multiple \n",
    "line string in python'''\n",
    "print(b)\n",
    "\n",
    "#Strings are Arrays\n",
    "a= \"Hello world\"\n",
    "print(a[2])\n",
    "\n",
    "#Looping Through a String\n",
    "for x in \"banan\":\n",
    "    print(x)\n",
    "\n",
    "#String length\n",
    "a= \"hello, world!\"\n",
    "print(len(a))\n",
    "\n",
    "#Check String\n",
    "b= \"Learning python can be useful in the future since most of AI uses python\"\n",
    "print(\"AI\" in b)\n",
    "#example with IF condition\n",
    "if \"Ab\" in b:\n",
    "    print(\"Yes, 'AI' is present\")\n",
    "else:\n",
    "    print(\"No AI is not present\")"
   ]
  },
  {
   "cell_type": "code",
   "execution_count": 56,
   "metadata": {},
   "outputs": [
    {
     "name": "stdout",
     "output_type": "stream",
     "text": [
      "llo\n",
      "Hello\n",
      "llo, world\n"
     ]
    }
   ],
   "source": [
    "#Python - Slicing Strings\n",
    "#Slicing\n",
    "b= \"Hello, world\"\n",
    "print(b[2:5])\n",
    "\n",
    "#Slice From the Start\n",
    "print(b[:5])\n",
    "\n",
    "#Slice To the End\n",
    "print(b[2:])"
   ]
  },
  {
   "cell_type": "code",
   "execution_count": 61,
   "metadata": {},
   "outputs": [
    {
     "name": "stdout",
     "output_type": "stream",
     "text": [
      " HELLO, WORLD\n",
      " hello, world\n",
      "Hello, World\n",
      " Wello, World\n",
      "[' Hello', ' World']\n"
     ]
    }
   ],
   "source": [
    "#Python - Modify Strings\n",
    "# Uppercase\n",
    "a= \" Hello, World\"\n",
    "print(a.upper())\n",
    "\n",
    "#Lowercase\n",
    "print(a.lower())\n",
    "\n",
    "#Remove Whitespace\n",
    "print(a.strip())\n",
    "\n",
    "#Replace String\n",
    "print(a.replace(\"H\",\"W\"))\n",
    "\n",
    "#Split String\n",
    "print(a.split(\",\"))"
   ]
  },
  {
   "cell_type": "code",
   "execution_count": 64,
   "metadata": {},
   "outputs": [
    {
     "name": "stdout",
     "output_type": "stream",
     "text": [
      "Helloworld\n",
      "Hello world\n"
     ]
    }
   ],
   "source": [
    "#String Concatenation\n",
    "#Merging variable a and b\n",
    "a=\"Hello\"\n",
    "b=\"world\"\n",
    "c= a+b\n",
    "print(c)\n",
    "\n",
    "#Other example\n",
    "d = a + \" \" +b\n",
    "print(d)"
   ]
  }
 ],
 "metadata": {
  "kernelspec": {
   "display_name": "Python 3",
   "language": "python",
   "name": "python3"
  },
  "language_info": {
   "codemirror_mode": {
    "name": "ipython",
    "version": 3
   },
   "file_extension": ".py",
   "mimetype": "text/x-python",
   "name": "python",
   "nbconvert_exporter": "python",
   "pygments_lexer": "ipython3",
   "version": "3.9.6"
  },
  "orig_nbformat": 4
 },
 "nbformat": 4,
 "nbformat_minor": 2
}
