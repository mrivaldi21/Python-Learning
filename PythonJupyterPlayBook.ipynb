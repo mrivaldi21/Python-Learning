{
 "cells": [
  {
   "cell_type": "code",
   "execution_count": 1,
   "metadata": {},
   "outputs": [
    {
     "name": "stdout",
     "output_type": "stream",
     "text": [
      "hellow world\n"
     ]
    }
   ],
   "source": [
    "# print command\n",
    "print(\"hellow world\")"
   ]
  },
  {
   "cell_type": "code",
   "execution_count": 4,
   "metadata": {},
   "outputs": [
    {
     "data": {
      "text/plain": [
       "'thi is an example of long commend \\nwith multiple line\\n'"
      ]
     },
     "execution_count": 4,
     "metadata": {},
     "output_type": "execute_result"
    }
   ],
   "source": [
    "# singel line commend\n",
    "\"\"\"thi is an example of long commend \n",
    "with multiple line\n",
    "\"\"\""
   ]
  },
  {
   "cell_type": "code",
   "execution_count": 8,
   "metadata": {},
   "outputs": [
    {
     "name": "stdout",
     "output_type": "stream",
     "text": [
      "5\n",
      "hello\n",
      "3 3 3.0\n",
      "<class 'int'>\n",
      "<class 'str'>\n"
     ]
    }
   ],
   "source": [
    "#Python Variables\n",
    "# Creating variables\n",
    "x=5\n",
    "y=\"hello\"\n",
    "print(x)\n",
    "print(y)\n",
    "\n",
    "# Casting\n",
    "x= str(3)\n",
    "y=int(3)\n",
    "z=float(3)\n",
    "print(x,y,z)\n",
    "\n",
    "#Get Type\n",
    "x=5\n",
    "y=\"jonh\"\n",
    "print(type(x))\n",
    "print(type(y))\n",
    "\n",
    "#Single or Double Quotes?\n",
    "x=\"john\"\n",
    "x='john'\n"
   ]
  },
  {
   "cell_type": "code",
   "execution_count": 13,
   "metadata": {},
   "outputs": [
    {
     "name": "stdout",
     "output_type": "stream",
     "text": [
      "orange\n",
      "banan\n",
      "4\n",
      "orange\n",
      "orange\n",
      "orange\n",
      "['apple']\n",
      "['banan']\n",
      "['tangerin']\n"
     ]
    }
   ],
   "source": [
    "# Python - Variable Names\n",
    "#Legal Variable Names\n",
    "myvar = \"John\"\n",
    "my_var = \"John\"\n",
    "_my_var = \"John\"\n",
    "myVar = \"John\"\n",
    "MYVAR = \"John\"\n",
    "myvar2 = \"John\"\n",
    "\n",
    "# Many Values to Multiple Variables\n",
    "x,y,z = \"orange\",\"banan\",4\n",
    "print(x)\n",
    "print(y)\n",
    "print(z)\n",
    "\n",
    "#One Value to Multiple Variables\n",
    "x=y=z = \"orange\"\n",
    "print(x)\n",
    "print(y)\n",
    "print(z)\n",
    "\n",
    "#Unpack a Collection\n",
    "fruits = [\"apple\"],[\"banan\"],[\"tangerin\"]\n",
    "x,y,z=fruits\n",
    "print(x)\n",
    "print(y)\n",
    "print(z)"
   ]
  },
  {
   "cell_type": "code",
   "execution_count": 15,
   "metadata": {},
   "outputs": [
    {
     "name": "stdout",
     "output_type": "stream",
     "text": [
      "Python is awesome\n",
      "Python is awesome\n"
     ]
    }
   ],
   "source": [
    "#Python - Output Variables\n",
    "#Output Variables\n",
    "x=\"Python is awesome\"\n",
    "print(x)\n",
    "x = \"Python\"\n",
    "y= \"is\"\n",
    "z= \"awesome\"\n",
    "print(x,y,z)"
   ]
  },
  {
   "cell_type": "code",
   "execution_count": 19,
   "metadata": {},
   "outputs": [
    {
     "name": "stdout",
     "output_type": "stream",
     "text": [
      "Python is Awesome\n",
      "Python is fantastica\n",
      "Python is fantastic\n"
     ]
    }
   ],
   "source": [
    "# Python - Global Variables\n",
    "# Global Variables\n",
    "x=\"Awesome\"\n",
    "def myfunc():\n",
    "    print(\"Python is \"+x)\n",
    "myfunc()\n",
    "\n",
    "#The global Keyword\n",
    "def myfunc():\n",
    "    global x\n",
    "    x = \"fantastica\"\n",
    "\n",
    "myfunc()\n",
    "print(\"Python is \"+ x)\n"
   ]
  },
  {
   "cell_type": "code",
   "execution_count": 27,
   "metadata": {},
   "outputs": [
    {
     "name": "stdout",
     "output_type": "stream",
     "text": [
      "<class 'tuple'>\n",
      "5.0\n"
     ]
    }
   ],
   "source": [
    "#Python Data Types\n",
    "#Built-in Data Types\n",
    "\"\"\"\n",
    "Text Type:\tstr\n",
    "Numeric Types:\tint, float, complex\n",
    "Sequence Types:\tlist, tuple, range\n",
    "Mapping Type:\tdict\n",
    "Set Types:\tset, frozenset\n",
    "Boolean Type:\tbool\n",
    "Binary Types:\tbytes, bytearray, memoryview\n",
    "None Type:\tNoneType\n",
    "\"\"\"\n",
    "\n",
    "x= (\"bnanan\",\"apple\")\n",
    "print(type(x))\n",
    "\n",
    "#Casting\n",
    "x=5\n",
    "print(float(x))"
   ]
  },
  {
   "cell_type": "code",
   "execution_count": 39,
   "metadata": {},
   "outputs": [
    {
     "name": "stdout",
     "output_type": "stream",
     "text": [
      "<class 'int'>\n",
      "<class 'float'>\n",
      "<class 'complex'>\n",
      "1.0\n",
      "2\n",
      "(1+0j)\n",
      "<class 'float'>\n",
      "<class 'int'>\n",
      "<class 'complex'>\n",
      "6\n"
     ]
    }
   ],
   "source": [
    "#Python Numbers\n",
    "#number type in Python include\n",
    "# int\n",
    "# float\n",
    "# complex\n",
    "x= 1\n",
    "y=2.8\n",
    "z=1j\n",
    "print(type(x))\n",
    "print(type(y))\n",
    "print(type(z))\n",
    "\n",
    "#Type conversion\n",
    "x=1\n",
    "y=2.8\n",
    "z=1j\n",
    "\n",
    "#convert from int to float\n",
    "a=float(x)\n",
    "\n",
    "#convert from float to int\n",
    "b=int(y)\n",
    "\n",
    "#convert from int to complex\n",
    "c=complex(x)\n",
    "\n",
    "print(a)\n",
    "print(b)\n",
    "print(c)\n",
    "\n",
    "print(type(a))\n",
    "print(type(b))\n",
    "print(type(c)) #Note: You cannot convert complex numbers into another number type.\n",
    "\n",
    "#Random number\n",
    "import random\n",
    "print(random.randrange(1,10))"
   ]
  },
  {
   "cell_type": "code",
   "execution_count": 52,
   "metadata": {},
   "outputs": [
    {
     "name": "stdout",
     "output_type": "stream",
     "text": [
      "jello\n",
      "world\n",
      "Loremipsum\n",
      "dagoan kadinya\n",
      "akjshujkl alksdhfn\n",
      "this is an exalpe\n",
      "of multiple \n",
      "line string in python\n",
      "l\n",
      "b\n",
      "a\n",
      "n\n",
      "a\n",
      "n\n",
      "13\n",
      "True\n",
      "No AI is not present\n"
     ]
    }
   ],
   "source": [
    "# Python Strings\n",
    "# String\n",
    "print(\"jello\")\n",
    "\n",
    "#Assign String to a Variable\n",
    "a= \"world\"\n",
    "print(a)\n",
    "\n",
    "# Multiline Strings\n",
    "a= \"\"\"Loremipsum\n",
    "dagoan kadinya\n",
    "akjshujkl alksdhfn\"\"\"\n",
    "print(a)\n",
    "b='''this is an exalpe\n",
    "of multiple \n",
    "line string in python'''\n",
    "print(b)\n",
    "\n",
    "#Strings are Arrays\n",
    "a= \"Hello world\"\n",
    "print(a[2])\n",
    "\n",
    "#Looping Through a String\n",
    "for x in \"banan\":\n",
    "    print(x)\n",
    "\n",
    "#String length\n",
    "a= \"hello, world!\"\n",
    "print(len(a))\n",
    "\n",
    "#Check String\n",
    "b= \"Learning python can be useful in the future since most of AI uses python\"\n",
    "print(\"AI\" in b)\n",
    "#example with IF condition\n",
    "if \"Ab\" in b:\n",
    "    print(\"Yes, 'AI' is present\")\n",
    "else:\n",
    "    print(\"No AI is not present\")"
   ]
  },
  {
   "cell_type": "code",
   "execution_count": 56,
   "metadata": {},
   "outputs": [
    {
     "name": "stdout",
     "output_type": "stream",
     "text": [
      "llo\n",
      "Hello\n",
      "llo, world\n"
     ]
    }
   ],
   "source": [
    "#Python - Slicing Strings\n",
    "#Slicing\n",
    "b= \"Hello, world\"\n",
    "print(b[2:5])\n",
    "\n",
    "#Slice From the Start\n",
    "print(b[:5])\n",
    "\n",
    "#Slice To the End\n",
    "print(b[2:])"
   ]
  },
  {
   "cell_type": "code",
   "execution_count": 61,
   "metadata": {},
   "outputs": [
    {
     "name": "stdout",
     "output_type": "stream",
     "text": [
      " HELLO, WORLD\n",
      " hello, world\n",
      "Hello, World\n",
      " Wello, World\n",
      "[' Hello', ' World']\n"
     ]
    }
   ],
   "source": [
    "#Python - Modify Strings\n",
    "# Uppercase\n",
    "a= \" Hello, World\"\n",
    "print(a.upper())\n",
    "\n",
    "#Lowercase\n",
    "print(a.lower())\n",
    "\n",
    "#Remove Whitespace\n",
    "print(a.strip())\n",
    "\n",
    "#Replace String\n",
    "print(a.replace(\"H\",\"W\"))\n",
    "\n",
    "#Split String\n",
    "print(a.split(\",\"))"
   ]
  },
  {
   "cell_type": "code",
   "execution_count": 64,
   "metadata": {},
   "outputs": [
    {
     "name": "stdout",
     "output_type": "stream",
     "text": [
      "Helloworld\n",
      "Hello world\n"
     ]
    }
   ],
   "source": [
    "#String Concatenation\n",
    "#Merging variable a and b\n",
    "a=\"Hello\"\n",
    "b=\"world\"\n",
    "c= a+b\n",
    "print(c)\n",
    "\n",
    "#Other example\n",
    "d = a + \" \" +b\n",
    "print(d)"
   ]
  },
  {
   "cell_type": "code",
   "execution_count": 3,
   "metadata": {},
   "outputs": [
    {
     "name": "stdout",
     "output_type": "stream",
     "text": [
      "My name is John I'am 36\n",
      "I want 3 pieces of item 567 for 49.95 dollars.\n"
     ]
    }
   ],
   "source": [
    "#Python - Format - Strings\n",
    "#String Format\n",
    "age = 36\n",
    "txt = \"My name is John I'am {}\" \n",
    "print(txt.format(age))\n",
    "\n",
    "#Another example\n",
    "quantity = 3\n",
    "itemno = 567\n",
    "price = 49.95\n",
    "myorder = \"I want {} pieces of item {} for {} dollars.\"\n",
    "print(myorder.format(quantity, itemno, price))"
   ]
  },
  {
   "cell_type": "code",
   "execution_count": 5,
   "metadata": {},
   "outputs": [
    {
     "ename": "SyntaxError",
     "evalue": "(unicode error) 'unicodeescape' codec can't decode bytes in position 119-120: truncated \\xXX escape (1944000626.py, line 17)",
     "output_type": "error",
     "traceback": [
      "\u001b[0;36m  Cell \u001b[0;32mIn[5], line 17\u001b[0;36m\u001b[0m\n\u001b[0;31m    '''\u001b[0m\n\u001b[0m       ^\u001b[0m\n\u001b[0;31mSyntaxError\u001b[0m\u001b[0;31m:\u001b[0m (unicode error) 'unicodeescape' codec can't decode bytes in position 119-120: truncated \\xXX escape\n"
     ]
    }
   ],
   "source": [
    "#Python - Escape Characters\n",
    "#Escape Character\n",
    "txt = \"We are the so-called \\\"Vikings\\\" from the north.\"\n",
    "print(txt)\n",
    "\n",
    "#Escape Character\n",
    "# \\'\tSingle Quote\t\n",
    "# \\\\\tBackslash\t\n",
    "# \\n\tNew Line\t\n",
    "# \\r\tCarriage Return\t\n",
    "# \\t\tTab\t\n",
    "# \\b\tBackspace\t\n",
    "# \\f\tForm Feed\t\n",
    "# \\ooo\tOctal value\t\n",
    "# \\xhh\tHex value"
   ]
  },
  {
   "cell_type": "code",
   "execution_count": null,
   "metadata": {},
   "outputs": [],
   "source": [
    "#Python - String Methods\n",
    "#String methods\n",
    "# Method\tDescription\n",
    "# capitalize()\tConverts the first character to upper case\n",
    "# casefold()\tConverts string into lower case\n",
    "# center()\tReturns a centered string\n",
    "# count()\tReturns the number of times a specified value occurs in a string\n",
    "# encode()\tReturns an encoded version of the string\n",
    "# endswith()\tReturns true if the string ends with the specified value\n",
    "# expandtabs()\tSets the tab size of the string\n",
    "# find()\tSearches the string for a specified value and returns the position of where it was found\n",
    "# format()\tFormats specified values in a string\n",
    "# format_map()\tFormats specified values in a string\n",
    "# index()\tSearches the string for a specified value and returns the position of where it was found\n",
    "# isalnum()\tReturns True if all characters in the string are alphanumeric\n",
    "# isalpha()\tReturns True if all characters in the string are in the alphabet\n",
    "# isdecimal()\tReturns True if all characters in the string are decimals\n",
    "# isdigit()\tReturns True if all characters in the string are digits\n",
    "# isidentifier()\tReturns True if the string is an identifier\n",
    "# islower()\tReturns True if all characters in the string are lower case\n",
    "# isnumeric()\tReturns True if all characters in the string are numeric\n",
    "# isprintable()\tReturns True if all characters in the string are printable\n",
    "# isspace()\tReturns True if all characters in the string are whitespaces\n",
    "# istitle()\tReturns True if the string follows the rules of a title\n",
    "# isupper()\tReturns True if all characters in the string are upper case\n",
    "# join()\tJoins the elements of an iterable to the end of the string\n",
    "# ljust()\tReturns a left justified version of the string\n",
    "# lower()\tConverts a string into lower case\n",
    "# lstrip()\tReturns a left trim version of the string\n",
    "# maketrans()\tReturns a translation table to be used in translations\n",
    "# partition()\tReturns a tuple where the string is parted into three parts\n",
    "# replace()\tReturns a string where a specified value is replaced with a specified value\n",
    "# rfind()\tSearches the string for a specified value and returns the last position of where it was found\n",
    "# rindex()\tSearches the string for a specified value and returns the last position of where it was found\n",
    "# rjust()\tReturns a right justified version of the string\n",
    "# rpartition()\tReturns a tuple where the string is parted into three parts\n",
    "# rsplit()\tSplits the string at the specified separator, and returns a list\n",
    "# rstrip()\tReturns a right trim version of the string\n",
    "# split()\tSplits the string at the specified separator, and returns a list\n",
    "# splitlines()\tSplits the string at line breaks and returns a list\n",
    "# startswith()\tReturns true if the string starts with the specified value\n",
    "# strip()\tReturns a trimmed version of the string\n",
    "# swapcase()\tSwaps cases, lower case becomes upper case and vice versa\n",
    "# title()\tConverts the first character of each word to upper case\n",
    "# translate()\tReturns a translated string\n",
    "# upper()\tConverts a string into upper case\n",
    "# zfill()\tFills the string with a specified number of 0 values at the beginning"
   ]
  },
  {
   "cell_type": "code",
   "execution_count": 10,
   "metadata": {},
   "outputs": [
    {
     "name": "stdout",
     "output_type": "stream",
     "text": [
      "True\n",
      "False\n",
      "False\n",
      "A is greather than b\n",
      "True\n",
      "True\n",
      "True\n",
      "True\n",
      "other example\n",
      "False\n",
      "True\n",
      "YES!\n",
      "True\n"
     ]
    }
   ],
   "source": [
    "#Python Booleans\n",
    "#Boolean Value\n",
    "print(10 >9)\n",
    "print (10 == 9)\n",
    "print(10 <9)\n",
    "\n",
    "a= 100\n",
    "b=32\n",
    "if b > a:\n",
    "    print(\"B greather than a\")\n",
    "else:\n",
    "    print(\"A is greather than b\")\n",
    "\n",
    "#Evaluated Value\n",
    "print(bool(\"hello\"))\n",
    "print(bool(15))\n",
    "\n",
    "x = \"Hello\"\n",
    "y = 15\n",
    "\n",
    "print(bool(x))\n",
    "print(bool(y))\n",
    "bool(False)\n",
    "bool(None)\n",
    "bool(0)\n",
    "bool(\"\")\n",
    "bool(())\n",
    "bool([])\n",
    "bool({})\n",
    "\n",
    "#Other example\n",
    "class mycalss():\n",
    "    def __len__(self):\n",
    "        return 0\n",
    "\n",
    "myobj = mycalss()\n",
    "print(\"other example\")\n",
    "print(bool(myobj))\n",
    "\n",
    "#Functions can Return a Boolean\n",
    "def myFunction():\n",
    "    return True\n",
    "print(myFunction())\n",
    "\n",
    "def myFunction() :\n",
    "  return True\n",
    "\n",
    "if myFunction():\n",
    "  print(\"YES!\")\n",
    "else:\n",
    "  print(\"NO!\")\n",
    "\n",
    "#Python is instance() function\n",
    "x = 200\n",
    "print(isinstance(x, int))"
   ]
  },
  {
   "cell_type": "code",
   "execution_count": 2,
   "metadata": {},
   "outputs": [
    {
     "name": "stdout",
     "output_type": "stream",
     "text": [
      "6\n",
      "115\n"
     ]
    }
   ],
   "source": [
    "#Python Operators\n",
    "#Python Aritmetic Operators\n",
    "\n",
    "# Operators\n",
    "# + Addition\n",
    "# - Subsctraction\n",
    "# * Multiplication\n",
    "# / Division\n",
    "# % Modulus\n",
    "# ** Exponentation\n",
    "# // Floor division\n",
    "\n",
    "#Python Assignment Operators\n",
    "# =\n",
    "# +=\n",
    "# -=\n",
    "# *=\n",
    "# /=\n",
    "# %=\n",
    "# **=\n",
    "# &=\n",
    "# |=\n",
    "# ^=\n",
    "# >>=\n",
    "# <<=\n",
    "\n",
    "#Python Comparison Operators\n",
    "# ==\n",
    "# !=\n",
    "# >\n",
    "# <\n",
    "# >=\n",
    "# <=\n",
    "\n",
    "#python Logical Operators\n",
    "# and\n",
    "# or\n",
    "# not\n",
    "\n",
    "#Python Identity Operators\n",
    "# is\n",
    "# is not\n",
    "\n",
    "# Python membership Operators\n",
    "# in \n",
    "# not in\n",
    "\n",
    "# Python Bitwise Operators\n",
    "# & (AND)\n",
    "# | (OR)\n",
    "# ^ (XOR)\n",
    "# ~ (NOT)\n",
    "# << (ZERO FILL LEFT SHIFT)\n",
    "# >> (SIGN RIGHT SHIFT)\n",
    "\n",
    "# OPERATOR PRECEDENCE\n",
    "print ((6+3)-(6-3))\n",
    "print (100 + 5 * 3)"
   ]
  },
  {
   "cell_type": "code",
   "execution_count": 10,
   "metadata": {},
   "outputs": [
    {
     "name": "stdout",
     "output_type": "stream",
     "text": [
      "['apple', 'banan', 'cherry']\n",
      "3\n",
      "['apple', 'banan', 'cherry']\n",
      "[1, 4, 2, 7, 8, 9]\n",
      "[False, True, False]\n",
      "['abc', 34, True, 40, 'male']\n",
      "<class 'set'>\n",
      "<class 'list'>\n",
      "['apple', 'banan', 'cherry']\n"
     ]
    }
   ],
   "source": [
    "# Python Lists\n",
    "# list\n",
    "thislist = [\"apple\",\"banan\",\"cherry\"]\n",
    "print(thislist)\n",
    "\n",
    "#list length\n",
    "thislist= [\"apple\",\"banan\",\"cherry\"]\n",
    "print(len(thislist))\n",
    "\n",
    "#List Items-Data Types\n",
    "list1 = [\"apple\",\"banan\",\"cherry\"]\n",
    "list2 = [1,4,2,7,8,9]\n",
    "list3 = [False,True,False]\n",
    "\n",
    "print(list1)\n",
    "print(list2)\n",
    "print(list3)\n",
    "\n",
    "listx = [\"abc\",34,True,40,\"male\"]\n",
    "print(listx)\n",
    "\n",
    "# type()\n",
    "mylist1 = {\"apple\",\"banan\",\"cherry\"}\n",
    "mylist2 = [\"apple\",\"banan\",\"cherry\"]\n",
    "print(type(mylist1))\n",
    "print(type(mylist2))\n",
    "\n",
    "# The list() Constructor\n",
    "thislist =list((\"apple\",\"banan\",\"cherry\")) #Double round bracket\n",
    "print(thislist)\n",
    "\n",
    "#Python Collections (Arrays)\n",
    "# LIST is a collection which is ordered and changeable. Allows duplicate members.\n",
    "# TUPLE is a collection which is ordered and unchangeable. Allows duplicate members.\n",
    "# SET is a collection which is unordered, unchangeable*, and unindexed. No duplicate members.\n",
    "# DICTIONARY is a collection which is ordered** and changeable. No duplicate members.\n",
    "\n"
   ]
  },
  {
   "cell_type": "code",
   "execution_count": 18,
   "metadata": {},
   "outputs": [
    {
     "name": "stdout",
     "output_type": "stream",
     "text": [
      "baan\n",
      "cherry\n",
      "['cherry', 'orange', 'kiwi']\n",
      "['apple', 'banan', 'cherry', 'orange']\n",
      "['cherry', 'orange', 'kiwi']\n",
      "['orange', 'kiwi', 'melon']\n",
      "Yes, 'apple is in the fruits list\n"
     ]
    }
   ],
   "source": [
    "#Python - Access List Items\n",
    "#Access Items\n",
    "thislist  = [\"apple\",\"baan\",\"cherry\"]\n",
    "print(thislist[1])\n",
    "\n",
    "#Negative Indexing\n",
    "thislist = [\"apple\",\"banan\",\"cherry\"]\n",
    "print(thislist[-1])\n",
    "\n",
    "#Range of Index\n",
    "thislist = [\"apple\",\"banan\",\"cherry\",\"orange\",\"kiwi\"]\n",
    "print(thislist[2:5])\n",
    "print(thislist[:4])\n",
    "print(thislist[2:])\n",
    "\n",
    "#Range of Negative Indexs\n",
    "# Specify negative indexes if you want to start the search from the end of the list:\n",
    "thislist = [\"apple\", \"banana\", \"cherry\", \"orange\", \"kiwi\", \"melon\", \"mango\"]\n",
    "print(thislist[-4:-1])\n",
    "\n",
    "#Check if Items Exists\n",
    "thislist = [\"apple\",\"banan\",\"cherry\"]\n",
    "if \"apple\" in thislist:\n",
    "    print(\"Yes, 'apple is in the fruits list\")"
   ]
  },
  {
   "cell_type": "code",
   "execution_count": 21,
   "metadata": {},
   "outputs": [
    {
     "name": "stdout",
     "output_type": "stream",
     "text": [
      "['apple', 'blackcurrant', 'cherry']\n",
      "['apple', 'blackcurrant', 'watermelon', 'orange', 'kiwi', 'mango']\n",
      "['apple', 'banan', 'watermelon', 'cherry']\n"
     ]
    }
   ],
   "source": [
    "#Python - Change List Items\n",
    "#Chang Item Value\n",
    "thislist = [\"apple\",\"banan\",\"cherry\"]\n",
    "thislist[1] = \"blackcurrant\"\n",
    "print(thislist)\n",
    "\n",
    "#Change a Range of Item Values\n",
    "thislist = [\"apple\",\"banan\",\"cherry\",\"orange\",\"kiwi\",\"mango\"]\n",
    "thislist[1:3] = [\"blackcurrant\",\"watermelon\"]\n",
    "print(thislist)\n",
    "\n",
    "# Insert Items\n",
    "thislist = [\"apple\",\"banan\",\"cherry\"]\n",
    "thislist.insert(2,\"watermelon\")\n",
    "print(thislist)"
   ]
  },
  {
   "cell_type": "code",
   "execution_count": 25,
   "metadata": {},
   "outputs": [
    {
     "name": "stdout",
     "output_type": "stream",
     "text": [
      "['apple', 'banan', 'cherry', 'orange']\n",
      "['apple', 'orange', 'banan', 'cherry', 'orange']\n",
      "['apple', 'banan', 'cherry', 'mango', 'pinaple', 'papaya']\n",
      "['apple', 'banan', 'cherry', 'kiwi', 'orange']\n"
     ]
    }
   ],
   "source": [
    "#Python - Add List Items\n",
    "# Append Items\n",
    "thislist = [\"apple\",\"banan\",\"cherry\"]\n",
    "thislist.append(\"orange\")\n",
    "print(thislist)\n",
    "\n",
    "#Insert Items\n",
    "thislist.insert(1,\"orange\")\n",
    "print(thislist)\n",
    "\n",
    "#Extend List\n",
    "#To append elements from another list to the current list, use the extend() method.\n",
    "thislist = [\"apple\",\"banan\",\"cherry\"]\n",
    "tropical = [\"mango\",\"pinaple\",\"papaya\"]\n",
    "thislist.extend(tropical)\n",
    "print(thislist)\n",
    "\n",
    "#Add Any Iterable\n",
    "#The extend() method does not have to append lists, you can add any iterable object (tuples, sets, dictionaries etc.).\n",
    "thislist = [\"apple\",\"banan\",\"cherry\"]\n",
    "thistuple = (\"kiwi\",\"orange\")\n",
    "thislist.extend(thistuple)\n",
    "print(thislist)"
   ]
  },
  {
   "cell_type": "code",
   "execution_count": 34,
   "metadata": {},
   "outputs": [
    {
     "name": "stdout",
     "output_type": "stream",
     "text": [
      "['banana', 'cherry']\n",
      "['apple', 'cherry']\n",
      "['apple', 'banana']\n",
      "['banana', 'cherry']\n",
      "[]\n"
     ]
    }
   ],
   "source": [
    "#Python - Remove List Items\n",
    "#Remove Specified Item\n",
    "thislist = [\"apple\",\"banana\",\"cherry\"]\n",
    "thislist.remove(\"apple\")\n",
    "print(thislist)\n",
    "\n",
    "#Remove Specificied Index\n",
    "thislist = [\"apple\",\"banan\",\"cherry\"]\n",
    "thislist.pop(1)\n",
    "print(thislist)\n",
    "\n",
    "#Remove last index\n",
    "thislist = [\"apple\",\"banana\",\"cherry\"]\n",
    "thislist.pop()\n",
    "print(thislist)\n",
    "\n",
    "#Remove specified index \"del\"\n",
    "thislist = [\"apple\",\"banana\",\"cherry\"]\n",
    "del thislist[0]\n",
    "print(thislist)\n",
    "\n",
    "#Remove list completely using \"del\"\n",
    "thislist = [\"apple\",\"banan\",\"cherry\"]\n",
    "del thislist\n",
    "\n",
    "#Clear the List\n",
    "#The clear() method empties the list\n",
    "#The list still remains, but has no content\n",
    "thislist = [\"apple\",\"banan\",\"cherry\"]\n",
    "thislist.clear()\n",
    "print(thislist)"
   ]
  },
  {
   "cell_type": "code",
   "execution_count": 44,
   "metadata": {},
   "outputs": [
    {
     "name": "stdout",
     "output_type": "stream",
     "text": [
      "apple\n",
      "banan\n",
      "cherry\n",
      "==============\n",
      "apple\n",
      "banana\n",
      "cherry\n",
      "==============\n",
      "apple\n",
      "banan\n",
      "cherry\n",
      "==============\n",
      "apple\n",
      "banan\n",
      "cherry\n"
     ]
    },
    {
     "data": {
      "text/plain": [
       "[None, None, None]"
      ]
     },
     "execution_count": 44,
     "metadata": {},
     "output_type": "execute_result"
    }
   ],
   "source": [
    "#Python - Loop Lists\n",
    "#Loop Through a List\n",
    "thislist = [\"apple\",\"banan\",\"cherry\"]\n",
    "for x in thislist:\n",
    "    print(x)\n",
    "print(\"==============\")\n",
    "\n",
    "# Loop Through the Index Numbers\n",
    "# You can also loop through the list items by referring to their index number.\n",
    "# Use the range() and len() functions to create a suitable iterable.\n",
    "thislist = [\"apple\",\"banana\",\"cherry\"]\n",
    "for i in range(len(thislist)):\n",
    "    print(thislist[i])\n",
    "print(\"==============\")\n",
    "\n",
    "#Using a While Loop\n",
    "# You can loop through the list items by using a while loop.\n",
    "# Use the len() function to determine the length of the list, then start at 0 and loop your way through the list items by referring to their indexes.\n",
    "thislist = [\"apple\",\"banan\",\"cherry\"]\n",
    "i=0\n",
    "while i < len(thislist):\n",
    "    print(thislist[i])\n",
    "    i=i+1\n",
    "print(\"==============\")\n",
    "\n",
    "#Loopeing using list comperhension\n",
    "thislist = [\"apple\",\"banan\",\"cherry\"]\n",
    "[print(x) for x in thislist]"
   ]
  },
  {
   "cell_type": "code",
   "execution_count": 59,
   "metadata": {},
   "outputs": [
    {
     "name": "stdout",
     "output_type": "stream",
     "text": [
      "Global list\n",
      "['apple', 'banna', 'cherry', 'kiwi', 'mango']\n",
      "==comperhension==\n",
      "['apple', 'banna', 'mango']\n",
      "==single line==\n",
      "['apple', 'banna', 'mango']\n",
      "=======\n",
      "['banna', 'cherry', 'kiwi', 'mango']\n",
      "== withouf IF ==\n",
      "['apple', 'banna', 'cherry', 'kiwi', 'mango']\n",
      "=======\n",
      "[0, 1, 2, 3, 4, 5, 6, 7, 8, 9]\n",
      "=======\n",
      "[0, 1, 2, 3, 4]\n",
      "Expression\n",
      "['APPLE', 'BANNA', 'CHERRY', 'KIWI', 'MANGO']\n",
      "=======\n",
      "['hello', 'hello', 'hello', 'hello', 'hello']\n",
      "=======\n",
      "['apple', 'banna', 'cherry', 'kiwi', 'mango']\n"
     ]
    }
   ],
   "source": [
    "# Python - List Comperhension\n",
    "#list Comperhension\n",
    "fruits = [\"apple\",\"banna\",\"cherry\",\"kiwi\",\"mango\"]\n",
    "newlist = []\n",
    "print(\"Global list\")\n",
    "print(fruits)\n",
    "\n",
    "for x in fruits:\n",
    "    if \"a\" in x:\n",
    "        newlist.append(x)\n",
    "print(\"==comperhension==\")\n",
    "print(newlist)\n",
    "\n",
    "#Example with singe line code\n",
    "nextlist = [x for x in fruits if \"a\" in x]\n",
    "print(\"==single line==\")\n",
    "print(nextlist)\n",
    "\n",
    "#Comperhension with condition\n",
    "# example\n",
    "newlist = [x for x in fruits if x != \"apple\"]\n",
    "print(\"=======\")\n",
    "print(newlist)\n",
    "\n",
    "#example\n",
    "newlist = [x for x in fruits]\n",
    "print(\"== withouf IF ==\")\n",
    "print(newlist)\n",
    "\n",
    "#Iterable\n",
    "#Example\n",
    "newlist=[x for x in range(10)]\n",
    "print(\"=======\")\n",
    "print(newlist)\n",
    "\n",
    "#same example with condition\n",
    "newlist = [x for x in range(10) if x <5]\n",
    "print(\"=======\")\n",
    "print(newlist)\n",
    "\n",
    "#Expression\n",
    "newlist = [x.upper() for x in fruits]\n",
    "print(\"Expression\")\n",
    "print(newlist)\n",
    "\n",
    "newlist = ['hello' for x in fruits]\n",
    "print(\"=======\")\n",
    "print(newlist)\n",
    "\n",
    "newlist = [x if x != \"banana\" else \"orange\" for x in fruits]\n",
    "print(\"=======\")\n",
    "print(newlist)\n",
    "\n",
    "\n"
   ]
  },
  {
   "cell_type": "code",
   "execution_count": 72,
   "metadata": {},
   "outputs": [
    {
     "name": "stdout",
     "output_type": "stream",
     "text": [
      "['banana', 'kiwi', 'mango', 'orange', 'pinapple']\n",
      "[12, 20, 22, 50, 80, 100]\n",
      "Sort Descending\n",
      "['pinapple', 'orange', 'mango', 'kiwi', 'banana']\n",
      "Customize Sort Function\n",
      "[50, 65, 23, 82, 100]\n",
      "Case Insentive Sort\n",
      "['Kiwi', 'Orange', 'banan', 'cherry']\n",
      "['banana', 'cherry', 'Kiwi', 'Orange']\n",
      "Reverse Order\n",
      "['cherry', 'Kiwi', 'Orange', 'banan']\n"
     ]
    }
   ],
   "source": [
    "#python - Sort List\n",
    "#Sort List Alphanumerically\n",
    "thislist = [\"orange\",\"mango\",\"kiwi\",\"pinapple\",\"banana\"]\n",
    "thislist.sort()\n",
    "print(thislist)\n",
    "\n",
    "#other example\n",
    "thislist = [100,50,20,80,22,12]\n",
    "thislist.sort()\n",
    "print(thislist)\n",
    "\n",
    "#Sort Descending\n",
    "thislist = [\"orange\",\"mango\",\"kiwi\",\"pinapple\",\"banana\"]\n",
    "thislist.sort(reverse = True)\n",
    "print(\"Sort Descending\")\n",
    "print(thislist)\n",
    "\n",
    "#Customize Sort Function\n",
    "#You can also customize your own function by using the keyword argument key = function.\n",
    "def myfunc(n):\n",
    "    return abs(n-50)\n",
    "print(\"Customize Sort Function\")\n",
    "thislist=[100,50,65,82,23]\n",
    "thislist.sort(key=myfunc)\n",
    "print(thislist)\n",
    "\n",
    "#Case Insentive Sort\n",
    "thislist= [\"banan\",\"Orange\",\"Kiwi\",\"cherry\"]\n",
    "thislist.sort()\n",
    "print(\"Case Insentive Sort\")\n",
    "print(thislist)\n",
    "\n",
    "thislist = [\"banana\", \"Orange\", \"Kiwi\", \"cherry\"]\n",
    "thislist.sort(key = str.lower)\n",
    "print(thislist)\n",
    "\n",
    "\n",
    "#Reverse Order\n",
    "thislist = [\"banan\",\"Orange\",\"Kiwi\",\"cherry\"]\n",
    "thislist.reverse()\n",
    "print(\"Reverse Order\")\n",
    "print(thislist)"
   ]
  },
  {
   "cell_type": "code",
   "execution_count": 74,
   "metadata": {},
   "outputs": [
    {
     "name": "stdout",
     "output_type": "stream",
     "text": [
      "['apple', 'banana', 'cherry']\n",
      "['apple', 'banana', 'cherry']\n"
     ]
    }
   ],
   "source": [
    "# Python - Copy list\n",
    "#Copy a List\n",
    "#You cannot copy a list simply by typing list2 = list1, because: list2 will only be a reference to list1, and changes made in list1 will automatically also be made in list2.\n",
    "\n",
    "thislist = [\"apple\",\"banana\",\"cherry\"]\n",
    "mylist = thislist.copy()\n",
    "print(mylist)\n",
    "\n",
    "thislist = [\"apple\",\"banana\",\"cherry\"]\n",
    "mylist = list(thislist)\n",
    "print(mylist)"
   ]
  },
  {
   "cell_type": "code",
   "execution_count": 78,
   "metadata": {},
   "outputs": [
    {
     "name": "stdout",
     "output_type": "stream",
     "text": [
      "['a', 'b', 'c', 1, 2, 3]\n",
      "['a', 'b', 'c', 1, 2, 3]\n",
      "['a', 'b', 'c', 1, 2, 3]\n"
     ]
    }
   ],
   "source": [
    "#Python - Join List\n",
    "#Join Two List\n",
    "list1 = [\"a\",\"b\",\"c\"]\n",
    "list2 = [1,2,3]\n",
    "list3 = list1 + list2\n",
    "print(list3)\n",
    "\n",
    "for x in list2:\n",
    "    list1.append(x)\n",
    "print(list1)\n",
    "\n",
    "list1 = [\"a\", \"b\" , \"c\"]\n",
    "list2 = [1, 2, 3]\n",
    "list1.extend(list2)\n",
    "print(list1)"
   ]
  },
  {
   "cell_type": "code",
   "execution_count": null,
   "metadata": {},
   "outputs": [],
   "source": [
    "#Python - List Methods\n",
    "#list Methods\n",
    "# append()\tAdds an element at the end of the list\n",
    "# clear()\tRemoves all the elements from the list\n",
    "# copy()\tReturns a copy of the list\n",
    "# count()\tReturns the number of elements with the specified value\n",
    "# extend()\tAdd the elements of a list (or any iterable), to the end of the current list\n",
    "# index()\tReturns the index of the first element with the specified value\n",
    "# insert()\tAdds an element at the specified position\n",
    "# pop()\tRemoves the element at the specified position\n",
    "# remove()\tRemoves the item with the specified value\n",
    "# reverse()\tReverses the order of the list\n",
    "# sort()\tSorts the list"
   ]
  },
  {
   "cell_type": "code",
   "execution_count": 86,
   "metadata": {},
   "outputs": [
    {
     "name": "stdout",
     "output_type": "stream",
     "text": [
      "('apple', 'banana', 'cherry')\n",
      "('apple', 'bannaa', 'cherry', 'apple', 'cherry')\n",
      "3\n",
      "<class 'tuple'>\n",
      "<class 'str'>\n",
      "('apple', 'banana', 'cherry')\n",
      "(1, 5, 7, 9, 3)\n",
      "(True, False, False)\n",
      "('abc', 34, True, 40, 'male')\n",
      "<class 'tuple'>\n",
      "('apple', 'banana', 'cherry')\n"
     ]
    }
   ],
   "source": [
    "#Python Tuples\n",
    "mytuple = (\"apple\",\"banan\",\"cherry\")\n",
    "#Tuple\n",
    "thistuple = (\"apple\",\"banana\",\"cherry\")\n",
    "print(thistuple)\n",
    "\n",
    "#Allow duplicate\n",
    "thistuple = (\"apple\",\"bannaa\",\"cherry\",\"apple\",\"cherry\")\n",
    "print(thistuple)\n",
    "\n",
    "#Tuple Length\n",
    "thistuple = (\"apple\",\"banana\",\"cherry\")\n",
    "print(len(thistuple))\n",
    "\n",
    "# Create Tuple with One item\n",
    "# To create a tuple with only one item, you have to add a comma after the item, otherwise Python will not recognize it as a tuple.\n",
    "thistuple = (\"apple\",)\n",
    "print(type(thistuple))\n",
    "\n",
    "#Not a tuple\n",
    "thistuple = (\"apple\")\n",
    "print(type(thistuple))\n",
    "\n",
    "#Tuple Items - Data types\n",
    "tuple1= (\"apple\",\"banana\",\"cherry\")\n",
    "tuple2 = (1,5,7,9,3)\n",
    "tuple3 = (True,False,False)\n",
    "tuple4 = (\"abc\", 34, True, 40, \"male\")\n",
    "print(tuple1)\n",
    "print(tuple2)\n",
    "print(tuple3)\n",
    "print(tuple4)\n",
    "\n",
    "#type()\n",
    "mytuple = (\"apple\",\"banana\",\"cherry\")\n",
    "print(type(mytuple))\n",
    "\n",
    "#The tuple() constructor\n",
    "thistuple = tuple((\"apple\",\"banana\",\"cherry\")) #Double round bracket\n",
    "print(thistuple)"
   ]
  },
  {
   "cell_type": "code",
   "execution_count": 96,
   "metadata": {},
   "outputs": [
    {
     "name": "stdout",
     "output_type": "stream",
     "text": [
      "banana\n",
      "cherry\n",
      "<class 'tuple'>\n",
      "('cherry', 'orange', 'kiwi')\n",
      "('apple', 'banana', 'cherry', 'orange')\n",
      "('cherry', 'orange', 'kiwi', 'melon', 'manggo')\n",
      "('orange', 'kiwi', 'melon')\n",
      "Yes, 'apple' is in this fruits tuple\n"
     ]
    }
   ],
   "source": [
    "#Python - Access Tuple Items\n",
    "#Acceess TUple Items\n",
    "thistuple= (\"apple\",\"banana\",\"cherry\")\n",
    "print(thistuple[1])\n",
    "\n",
    "# Negative Index\n",
    "#-1 refers to the last item, -2 refers to the second last item etc.\n",
    "print(thistuple[-1])\n",
    "\n",
    "#Range of indexs\n",
    "thistuple = (\"apple\",\"banana\",\"cherry\",\"orange\",\"kiwi\",\"melon\",\"manggo\")\n",
    "print(type(thistuple))\n",
    "print(thistuple[2:5])\n",
    "print(thistuple[:4])\n",
    "print(thistuple[2:])\n",
    "\n",
    "#Range of Negative Indexes\n",
    "print(thistuple[-4:-1])\n",
    "\n",
    "#Check if the item is exist\n",
    "thistuple = (\"apple\",\"banana\",\"cherry\")\n",
    "if \"apple\" in thistuple:\n",
    "    print(\"Yes, 'apple' is in this fruits tuple\")"
   ]
  },
  {
   "cell_type": "code",
   "execution_count": 103,
   "metadata": {},
   "outputs": [
    {
     "name": "stdout",
     "output_type": "stream",
     "text": [
      "<class 'tuple'>\n",
      "<class 'list'>\n",
      "<class 'tuple'>\n",
      "('apple', 'kiwi', 'Cherry')\n",
      "add items to tuple\n",
      "<class 'tuple'>\n",
      "('appple', 'banana', 'chery', 'orange')\n",
      "('appple', 'banana', 'chery', 'mango')\n",
      "('banana', 'chery')\n"
     ]
    }
   ],
   "source": [
    "# Python - Update Tuples\n",
    "# Chenge Tuple Values\n",
    "'''Once a tuple is created, you cannot change its values. Tuples are unchangeable, or immutable as it also is called.\n",
    "But there is a workaround. You can convert the tuple into a list, change the list, and convert the list back into a tuple.'''\n",
    "\n",
    "x= (\"apple\",\"Banana\",\"Cherry\")\n",
    "print(type(x)) #the original variable 'x' is tuple\n",
    "y=list(x) # convert the x variable to list\n",
    "print(type(y))\n",
    "y[1] = \"kiwi\" #update the new index to the x variable\n",
    "x= tuple(y) # convert back the X variable to tuple\n",
    "\n",
    "print(type(x))\n",
    "print(x)\n",
    "\n",
    "#Add Items to tuple\n",
    "thistuple = (\"appple\",\"banana\",\"chery\")\n",
    "y= list(thistuple)\n",
    "y.append(\"orange\")\n",
    "thistuple = tuple(y)\n",
    "print(\"add items to tuple\")\n",
    "print(type(thistuple))\n",
    "print(thistuple)\n",
    "\n",
    "#Add tuple to a tuple\n",
    "thistuple = (\"appple\",\"banana\",\"chery\")\n",
    "y = (\"mango\",)\n",
    "thistuple += y\n",
    "\n",
    "print(thistuple)\n",
    "\n",
    "#Removing Items from Tuple\n",
    "thistuple = (\"appple\",\"banana\",\"chery\")\n",
    "y = list(thistuple)\n",
    "y.remove(\"appple\")\n",
    "thistuple = tuple(y) #convertback to tuple\n",
    "\n",
    "print(thistuple)\n"
   ]
  },
  {
   "cell_type": "code",
   "execution_count": 110,
   "metadata": {},
   "outputs": [
    {
     "name": "stdout",
     "output_type": "stream",
     "text": [
      "apple\n",
      "banana\n",
      "cherry\n",
      "//using asterisk\n",
      "apple\n",
      "banana\n",
      "['cherry']\n",
      "=====\n",
      "apple\n",
      "['mango', 'papaya', 'pineapple']\n",
      "cherry\n",
      "apple\n",
      "banana\n",
      "chrry\n"
     ]
    }
   ],
   "source": [
    "#Python - Unpack Tuples\n",
    "fruits = (\"apple\",\"banana\",\"cherry\")\n",
    "(green,yellow,red) = fruits\n",
    "\n",
    "print(green)\n",
    "print(yellow)\n",
    "print(red)\n",
    "\n",
    "#Using Asterisk*\n",
    "'''If the number of variables is less than the number of values, you can add an * to the variable name and the values will be assigned to the variable as a list:'''\n",
    "fruits = (\"apple\",\"banana\",\"cherry\")\n",
    "(green,yellow,*red) = fruits\n",
    "print(\"//using asterisk\")\n",
    "print(green)\n",
    "print(yellow)\n",
    "print(red)\n",
    "\n",
    "#other example\n",
    "fruits = (\"apple\", \"mango\", \"papaya\", \"pineapple\", \"cherry\")\n",
    "(green, *tropic, red) = fruits\n",
    "print(\"=====\")\n",
    "print(green)\n",
    "print(tropic)\n",
    "print(red)\n"
   ]
  },
  {
   "cell_type": "code",
   "execution_count": 116,
   "metadata": {},
   "outputs": [
    {
     "name": "stdout",
     "output_type": "stream",
     "text": [
      "apple\n",
      "banana\n",
      "chrry\n",
      "=========\n",
      "apple\n",
      "banana\n",
      "cherry\n",
      "=========\n",
      "apple\n",
      "banana\n",
      "cherry\n"
     ]
    }
   ],
   "source": [
    "#Python - Loop Tuples\n",
    "thistuple = (\"apple\",\"banana\",\"chrry\")\n",
    "for x in thistuple:\n",
    "    print(x)\n",
    "print(\"=========\")\n",
    "#Loop through the Index Numbers\n",
    "thistuple = (\"apple\",\"banana\",\"cherry\")\n",
    "for i in range(len(thistuple)):\n",
    "    print(thistuple[i])\n",
    "print(\"=========\")\n",
    "\n",
    "#using while Loop\n",
    "thistuple = (\"apple\",\"banana\",\"cherry\")\n",
    "i = 0\n",
    "while i < len(thistuple):\n",
    "    print(thistuple[i])\n",
    "    i=i+1"
   ]
  },
  {
   "cell_type": "code",
   "execution_count": 119,
   "metadata": {},
   "outputs": [
    {
     "name": "stdout",
     "output_type": "stream",
     "text": [
      "('a', 'b', 'c', 1, 2, 3)\n",
      "('apple', 'banana', 'cherry', 'apple', 'banana', 'cherry')\n"
     ]
    }
   ],
   "source": [
    "#Python - Join Tuples\n",
    "# Join Two Tuples\n",
    "tuple1 = (\"a\",\"b\",\"c\")\n",
    "tuple2 = (1,2,3)\n",
    "\n",
    "tuple3 = tuple1 +tuple2\n",
    "print(tuple3)\n",
    "\n",
    "#Multiple Tuples\n",
    "fruits = (\"apple\",\"banana\",\"cherry\")\n",
    "mytuple = fruits *2\n",
    "print(mytuple)"
   ]
  },
  {
   "cell_type": "code",
   "execution_count": 177,
   "metadata": {},
   "outputs": [
    {
     "name": "stdout",
     "output_type": "stream",
     "text": [
      "2\n",
      "2\n",
      "1\n",
      "1\n"
     ]
    }
   ],
   "source": [
    "#Python - Tuple Methods\n",
    "#Tuple Methods\n",
    "#Python has two built-in methods that you can use on tuples.\n",
    "# count()\n",
    "# index()\n",
    "\n",
    "#count()\n",
    "fruits = (\"apple\",\"banana\",\"cherry\",\"apple\")\n",
    "a = fruits.count(\"apple\")\n",
    "print(a)\n",
    "number = (20,30,40,20)\n",
    "x= number.count(20)\n",
    "print(x)\n",
    "\n",
    "#index()\n",
    "fruits = (\"apple\",\"banana\",\"cherry\")\n",
    "x = fruits.index(\"banana\")\n",
    "print(x)\n",
    "\n",
    "numbers = (1,3,6,8,5,3)\n",
    "y=numbers.index(3)\n",
    "print(y)\n",
    "\n"
   ]
  },
  {
   "cell_type": "code",
   "execution_count": 187,
   "metadata": {},
   "outputs": [
    {
     "name": "stdout",
     "output_type": "stream",
     "text": [
      "(50, 40, 30, 20, 10)\n",
      "2\n",
      "20\n",
      "(50,)\n",
      "10\n",
      "20\n",
      "30\n",
      "40\n",
      "tuple1:  (99, 88)\n",
      "tuple2:  (11, 22)\n",
      "tuple1:  (99, 88)\n",
      "tuple2:  (11, 22)\n",
      "(44, 55)\n",
      "(44, 55)\n",
      "(11, [222, 33], 44, 55)\n",
      "(11, [222, 33], 44, 55)\n",
      "2\n",
      "True\n"
     ]
    }
   ],
   "source": [
    "# TUPLE EXCERCISE\n",
    "# 1 arrange the tuple from the bigest value to the lowest\n",
    "tuple1 = (10, 20, 30, 40, 50)\n",
    "print(tuple1[::-1])\n",
    "print(x)\n",
    "\n",
    "# 2 access value 20 from the tuple\n",
    "tuple1 = (\"Orange\", [10, 20, 30], (5, 15, 25))\n",
    "print(tuple1[1][1])\n",
    "\n",
    "# 3 Create a tuple with single item 50\n",
    "tuple3 = (50,)\n",
    "print(tuple3)\n",
    "\n",
    "# 4 Unpack the tuple into 4 variables\n",
    "tuple4 = (10,20,30,40)\n",
    "(a,b,c,d) = tuple4\n",
    "print(a)\n",
    "print(b)\n",
    "print(c)\n",
    "print(d)\n",
    "\n",
    "# 5 Swap two tuples in python\n",
    "tuple1 = (11,22)\n",
    "tuple2 = (99,88)\n",
    "x = (tuple2[0],tuple2[1])\n",
    "y = (tuple1[0],tuple1[1])\n",
    "tuple1 = tuple(x)\n",
    "tuple2 = tuple(y)\n",
    "\n",
    "print(\"tuple1: \",tuple1)\n",
    "print(\"tuple2: \",tuple2)\n",
    "# Simplification the code\n",
    "tuple1 = (11,22)\n",
    "tuple2 = (99,88)\n",
    "tuple1, tuple2 = tuple2, tuple1\n",
    "print(\"tuple1: \",tuple1)\n",
    "print(\"tuple2: \",tuple2)\n",
    "\n",
    "# 6 Copy specific elements from one tuple to a new tuple\n",
    "tuple1 = (11, 22, 33, 44, 55, 66)\n",
    "tuple2 = tuple1[3],tuple1[4]\n",
    "print (tuple2)\n",
    "# other example\n",
    "tuple2 = tuple1[3:-1]\n",
    "print(tuple2)\n",
    "\n",
    "# 7 Modify the tuple\n",
    "tuple1 = (11,[22,33],44,55)\n",
    "x = list(tuple1)\n",
    "tuple1[1][0] = 222\n",
    "tuple1 = tuple(x)\n",
    "print(tuple1)\n",
    "\n",
    "#Simpler method\n",
    "tuple1 = (11,[22,33],44,55)\n",
    "tuple1[1][0] = 222\n",
    "print(tuple1)\n",
    "\n",
    "# 8 Sort a tuple of tuples by 2nd item\n",
    "# tuple1 = (('a',23),('b',37),('c',11),('d',29))\n",
    "# sorteds = tuple(sorted(tuple1,key = lambda x: x[1]))\n",
    "# print(sorteds)\n",
    "\n",
    "# 9 Counts the number of occurrences of item 50 from a tuple\n",
    "tuplex = (50, 10, 60, 70, 50)\n",
    "x =tuplex.count(50)\n",
    "print(x)\n",
    "\n",
    "# 10 Check if all items in the tuple are the same\n",
    "tuple1 = (45,45,45,45)\n",
    "def check(t):\n",
    "    return all (i == t[0] for i in t)\n",
    "tuple1 = (45,45,45,45)\n",
    "print(check(tuple1))\n"
   ]
  }
 ],
 "metadata": {
  "kernelspec": {
   "display_name": "Python 3",
   "language": "python",
   "name": "python3"
  },
  "language_info": {
   "codemirror_mode": {
    "name": "ipython",
    "version": 3
   },
   "file_extension": ".py",
   "mimetype": "text/x-python",
   "name": "python",
   "nbconvert_exporter": "python",
   "pygments_lexer": "ipython3",
   "version": "3.11.4"
  },
  "orig_nbformat": 4
 },
 "nbformat": 4,
 "nbformat_minor": 2
}
