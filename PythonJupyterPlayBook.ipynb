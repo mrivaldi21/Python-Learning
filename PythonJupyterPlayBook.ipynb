{
 "cells": [
  {
   "cell_type": "code",
   "execution_count": 1,
   "metadata": {},
   "outputs": [
    {
     "name": "stdout",
     "output_type": "stream",
     "text": [
      "hellow world\n"
     ]
    }
   ],
   "source": [
    "# print command\n",
    "print(\"hellow world\")"
   ]
  },
  {
   "cell_type": "code",
   "execution_count": 4,
   "metadata": {},
   "outputs": [
    {
     "data": {
      "text/plain": [
       "'thi is an example of long commend \\nwith multiple line\\n'"
      ]
     },
     "execution_count": 4,
     "metadata": {},
     "output_type": "execute_result"
    }
   ],
   "source": [
    "# singel line commend\n",
    "\"\"\"thi is an example of long commend \n",
    "with multiple line\n",
    "\"\"\""
   ]
  },
  {
   "cell_type": "code",
   "execution_count": 8,
   "metadata": {},
   "outputs": [
    {
     "name": "stdout",
     "output_type": "stream",
     "text": [
      "5\n",
      "hello\n",
      "3 3 3.0\n",
      "<class 'int'>\n",
      "<class 'str'>\n"
     ]
    }
   ],
   "source": [
    "#Python Variables\n",
    "# Creating variables\n",
    "x=5\n",
    "y=\"hello\"\n",
    "print(x)\n",
    "print(y)\n",
    "\n",
    "# Casting\n",
    "x= str(3)\n",
    "y=int(3)\n",
    "z=float(3)\n",
    "print(x,y,z)\n",
    "\n",
    "#Get Type\n",
    "x=5\n",
    "y=\"jonh\"\n",
    "print(type(x))\n",
    "print(type(y))\n",
    "\n",
    "#Single or Double Quotes?\n",
    "x=\"john\"\n",
    "x='john'\n"
   ]
  },
  {
   "cell_type": "code",
   "execution_count": 13,
   "metadata": {},
   "outputs": [
    {
     "name": "stdout",
     "output_type": "stream",
     "text": [
      "orange\n",
      "banan\n",
      "4\n",
      "orange\n",
      "orange\n",
      "orange\n",
      "['apple']\n",
      "['banan']\n",
      "['tangerin']\n"
     ]
    }
   ],
   "source": [
    "# Python - Variable Names\n",
    "#Legal Variable Names\n",
    "myvar = \"John\"\n",
    "my_var = \"John\"\n",
    "_my_var = \"John\"\n",
    "myVar = \"John\"\n",
    "MYVAR = \"John\"\n",
    "myvar2 = \"John\"\n",
    "\n",
    "# Many Values to Multiple Variables\n",
    "x,y,z = \"orange\",\"banan\",4\n",
    "print(x)\n",
    "print(y)\n",
    "print(z)\n",
    "\n",
    "#One Value to Multiple Variables\n",
    "x=y=z = \"orange\"\n",
    "print(x)\n",
    "print(y)\n",
    "print(z)\n",
    "\n",
    "#Unpack a Collection\n",
    "fruits = [\"apple\"],[\"banan\"],[\"tangerin\"]\n",
    "x,y,z=fruits\n",
    "print(x)\n",
    "print(y)\n",
    "print(z)"
   ]
  },
  {
   "cell_type": "code",
   "execution_count": 15,
   "metadata": {},
   "outputs": [
    {
     "name": "stdout",
     "output_type": "stream",
     "text": [
      "Python is awesome\n",
      "Python is awesome\n"
     ]
    }
   ],
   "source": [
    "#Python - Output Variables\n",
    "#Output Variables\n",
    "x=\"Python is awesome\"\n",
    "print(x)\n",
    "x = \"Python\"\n",
    "y= \"is\"\n",
    "z= \"awesome\"\n",
    "print(x,y,z)"
   ]
  },
  {
   "cell_type": "code",
   "execution_count": 19,
   "metadata": {},
   "outputs": [
    {
     "name": "stdout",
     "output_type": "stream",
     "text": [
      "Python is Awesome\n",
      "Python is fantastica\n",
      "Python is fantastic\n"
     ]
    }
   ],
   "source": [
    "# Python - Global Variables\n",
    "# Global Variables\n",
    "x=\"Awesome\"\n",
    "def myfunc():\n",
    "    print(\"Python is \"+x)\n",
    "myfunc()\n",
    "\n",
    "#The global Keyword\n",
    "def myfunc():\n",
    "    global x\n",
    "    x = \"fantastica\"\n",
    "\n",
    "myfunc()\n",
    "print(\"Python is \"+ x)\n"
   ]
  },
  {
   "cell_type": "code",
   "execution_count": 27,
   "metadata": {},
   "outputs": [
    {
     "name": "stdout",
     "output_type": "stream",
     "text": [
      "<class 'tuple'>\n",
      "5.0\n"
     ]
    }
   ],
   "source": [
    "#Python Data Types\n",
    "#Built-in Data Types\n",
    "\"\"\"\n",
    "Text Type:\tstr\n",
    "Numeric Types:\tint, float, complex\n",
    "Sequence Types:\tlist, tuple, range\n",
    "Mapping Type:\tdict\n",
    "Set Types:\tset, frozenset\n",
    "Boolean Type:\tbool\n",
    "Binary Types:\tbytes, bytearray, memoryview\n",
    "None Type:\tNoneType\n",
    "\"\"\"\n",
    "\n",
    "x= (\"bnanan\",\"apple\")\n",
    "print(type(x))\n",
    "\n",
    "#Casting\n",
    "x=5\n",
    "print(float(x))"
   ]
  },
  {
   "cell_type": "code",
   "execution_count": 39,
   "metadata": {},
   "outputs": [
    {
     "name": "stdout",
     "output_type": "stream",
     "text": [
      "<class 'int'>\n",
      "<class 'float'>\n",
      "<class 'complex'>\n",
      "1.0\n",
      "2\n",
      "(1+0j)\n",
      "<class 'float'>\n",
      "<class 'int'>\n",
      "<class 'complex'>\n",
      "6\n"
     ]
    }
   ],
   "source": [
    "#Python Numbers\n",
    "#number type in Python include\n",
    "# int\n",
    "# float\n",
    "# complex\n",
    "x= 1\n",
    "y=2.8\n",
    "z=1j\n",
    "print(type(x))\n",
    "print(type(y))\n",
    "print(type(z))\n",
    "\n",
    "#Type conversion\n",
    "x=1\n",
    "y=2.8\n",
    "z=1j\n",
    "\n",
    "#convert from int to float\n",
    "a=float(x)\n",
    "\n",
    "#convert from float to int\n",
    "b=int(y)\n",
    "\n",
    "#convert from int to complex\n",
    "c=complex(x)\n",
    "\n",
    "print(a)\n",
    "print(b)\n",
    "print(c)\n",
    "\n",
    "print(type(a))\n",
    "print(type(b))\n",
    "print(type(c)) #Note: You cannot convert complex numbers into another number type.\n",
    "\n",
    "#Random number\n",
    "import random\n",
    "print(random.randrange(1,10))"
   ]
  },
  {
   "cell_type": "code",
   "execution_count": 52,
   "metadata": {},
   "outputs": [
    {
     "name": "stdout",
     "output_type": "stream",
     "text": [
      "jello\n",
      "world\n",
      "Loremipsum\n",
      "dagoan kadinya\n",
      "akjshujkl alksdhfn\n",
      "this is an exalpe\n",
      "of multiple \n",
      "line string in python\n",
      "l\n",
      "b\n",
      "a\n",
      "n\n",
      "a\n",
      "n\n",
      "13\n",
      "True\n",
      "No AI is not present\n"
     ]
    }
   ],
   "source": [
    "# Python Strings\n",
    "# String\n",
    "print(\"jello\")\n",
    "\n",
    "#Assign String to a Variable\n",
    "a= \"world\"\n",
    "print(a)\n",
    "\n",
    "# Multiline Strings\n",
    "a= \"\"\"Loremipsum\n",
    "dagoan kadinya\n",
    "akjshujkl alksdhfn\"\"\"\n",
    "print(a)\n",
    "b='''this is an exalpe\n",
    "of multiple \n",
    "line string in python'''\n",
    "print(b)\n",
    "\n",
    "#Strings are Arrays\n",
    "a= \"Hello world\"\n",
    "print(a[2])\n",
    "\n",
    "#Looping Through a String\n",
    "for x in \"banan\":\n",
    "    print(x)\n",
    "\n",
    "#String length\n",
    "a= \"hello, world!\"\n",
    "print(len(a))\n",
    "\n",
    "#Check String\n",
    "b= \"Learning python can be useful in the future since most of AI uses python\"\n",
    "print(\"AI\" in b)\n",
    "#example with IF condition\n",
    "if \"Ab\" in b:\n",
    "    print(\"Yes, 'AI' is present\")\n",
    "else:\n",
    "    print(\"No AI is not present\")"
   ]
  },
  {
   "cell_type": "code",
   "execution_count": 56,
   "metadata": {},
   "outputs": [
    {
     "name": "stdout",
     "output_type": "stream",
     "text": [
      "llo\n",
      "Hello\n",
      "llo, world\n"
     ]
    }
   ],
   "source": [
    "#Python - Slicing Strings\n",
    "#Slicing\n",
    "b= \"Hello, world\"\n",
    "print(b[2:5])\n",
    "\n",
    "#Slice From the Start\n",
    "print(b[:5])\n",
    "\n",
    "#Slice To the End\n",
    "print(b[2:])"
   ]
  },
  {
   "cell_type": "code",
   "execution_count": 61,
   "metadata": {},
   "outputs": [
    {
     "name": "stdout",
     "output_type": "stream",
     "text": [
      " HELLO, WORLD\n",
      " hello, world\n",
      "Hello, World\n",
      " Wello, World\n",
      "[' Hello', ' World']\n"
     ]
    }
   ],
   "source": [
    "#Python - Modify Strings\n",
    "# Uppercase\n",
    "a= \" Hello, World\"\n",
    "print(a.upper())\n",
    "\n",
    "#Lowercase\n",
    "print(a.lower())\n",
    "\n",
    "#Remove Whitespace\n",
    "print(a.strip())\n",
    "\n",
    "#Replace String\n",
    "print(a.replace(\"H\",\"W\"))\n",
    "\n",
    "#Split String\n",
    "print(a.split(\",\"))"
   ]
  },
  {
   "cell_type": "code",
   "execution_count": 64,
   "metadata": {},
   "outputs": [
    {
     "name": "stdout",
     "output_type": "stream",
     "text": [
      "Helloworld\n",
      "Hello world\n"
     ]
    }
   ],
   "source": [
    "#String Concatenation\n",
    "#Merging variable a and b\n",
    "a=\"Hello\"\n",
    "b=\"world\"\n",
    "c= a+b\n",
    "print(c)\n",
    "\n",
    "#Other example\n",
    "d = a + \" \" +b\n",
    "print(d)"
   ]
  },
  {
   "cell_type": "code",
   "execution_count": 3,
   "metadata": {},
   "outputs": [
    {
     "name": "stdout",
     "output_type": "stream",
     "text": [
      "My name is John I'am 36\n",
      "I want 3 pieces of item 567 for 49.95 dollars.\n"
     ]
    }
   ],
   "source": [
    "#Python - Format - Strings\n",
    "#String Format\n",
    "age = 36\n",
    "txt = \"My name is John I'am {}\" \n",
    "print(txt.format(age))\n",
    "\n",
    "#Another example\n",
    "quantity = 3\n",
    "itemno = 567\n",
    "price = 49.95\n",
    "myorder = \"I want {} pieces of item {} for {} dollars.\"\n",
    "print(myorder.format(quantity, itemno, price))"
   ]
  },
  {
   "cell_type": "code",
   "execution_count": 5,
   "metadata": {},
   "outputs": [
    {
     "ename": "SyntaxError",
     "evalue": "(unicode error) 'unicodeescape' codec can't decode bytes in position 119-120: truncated \\xXX escape (1944000626.py, line 17)",
     "output_type": "error",
     "traceback": [
      "\u001b[0;36m  Cell \u001b[0;32mIn[5], line 17\u001b[0;36m\u001b[0m\n\u001b[0;31m    '''\u001b[0m\n\u001b[0m       ^\u001b[0m\n\u001b[0;31mSyntaxError\u001b[0m\u001b[0;31m:\u001b[0m (unicode error) 'unicodeescape' codec can't decode bytes in position 119-120: truncated \\xXX escape\n"
     ]
    }
   ],
   "source": [
    "#Python - Escape Characters\n",
    "#Escape Character\n",
    "txt = \"We are the so-called \\\"Vikings\\\" from the north.\"\n",
    "print(txt)\n",
    "\n",
    "#Escape Character\n",
    "# \\'\tSingle Quote\t\n",
    "# \\\\\tBackslash\t\n",
    "# \\n\tNew Line\t\n",
    "# \\r\tCarriage Return\t\n",
    "# \\t\tTab\t\n",
    "# \\b\tBackspace\t\n",
    "# \\f\tForm Feed\t\n",
    "# \\ooo\tOctal value\t\n",
    "# \\xhh\tHex value"
   ]
  },
  {
   "cell_type": "code",
   "execution_count": null,
   "metadata": {},
   "outputs": [],
   "source": [
    "#Python - String Methods\n",
    "#String methods\n",
    "# Method\tDescription\n",
    "# capitalize()\tConverts the first character to upper case\n",
    "# casefold()\tConverts string into lower case\n",
    "# center()\tReturns a centered string\n",
    "# count()\tReturns the number of times a specified value occurs in a string\n",
    "# encode()\tReturns an encoded version of the string\n",
    "# endswith()\tReturns true if the string ends with the specified value\n",
    "# expandtabs()\tSets the tab size of the string\n",
    "# find()\tSearches the string for a specified value and returns the position of where it was found\n",
    "# format()\tFormats specified values in a string\n",
    "# format_map()\tFormats specified values in a string\n",
    "# index()\tSearches the string for a specified value and returns the position of where it was found\n",
    "# isalnum()\tReturns True if all characters in the string are alphanumeric\n",
    "# isalpha()\tReturns True if all characters in the string are in the alphabet\n",
    "# isdecimal()\tReturns True if all characters in the string are decimals\n",
    "# isdigit()\tReturns True if all characters in the string are digits\n",
    "# isidentifier()\tReturns True if the string is an identifier\n",
    "# islower()\tReturns True if all characters in the string are lower case\n",
    "# isnumeric()\tReturns True if all characters in the string are numeric\n",
    "# isprintable()\tReturns True if all characters in the string are printable\n",
    "# isspace()\tReturns True if all characters in the string are whitespaces\n",
    "# istitle()\tReturns True if the string follows the rules of a title\n",
    "# isupper()\tReturns True if all characters in the string are upper case\n",
    "# join()\tJoins the elements of an iterable to the end of the string\n",
    "# ljust()\tReturns a left justified version of the string\n",
    "# lower()\tConverts a string into lower case\n",
    "# lstrip()\tReturns a left trim version of the string\n",
    "# maketrans()\tReturns a translation table to be used in translations\n",
    "# partition()\tReturns a tuple where the string is parted into three parts\n",
    "# replace()\tReturns a string where a specified value is replaced with a specified value\n",
    "# rfind()\tSearches the string for a specified value and returns the last position of where it was found\n",
    "# rindex()\tSearches the string for a specified value and returns the last position of where it was found\n",
    "# rjust()\tReturns a right justified version of the string\n",
    "# rpartition()\tReturns a tuple where the string is parted into three parts\n",
    "# rsplit()\tSplits the string at the specified separator, and returns a list\n",
    "# rstrip()\tReturns a right trim version of the string\n",
    "# split()\tSplits the string at the specified separator, and returns a list\n",
    "# splitlines()\tSplits the string at line breaks and returns a list\n",
    "# startswith()\tReturns true if the string starts with the specified value\n",
    "# strip()\tReturns a trimmed version of the string\n",
    "# swapcase()\tSwaps cases, lower case becomes upper case and vice versa\n",
    "# title()\tConverts the first character of each word to upper case\n",
    "# translate()\tReturns a translated string\n",
    "# upper()\tConverts a string into upper case\n",
    "# zfill()\tFills the string with a specified number of 0 values at the beginning"
   ]
  },
  {
   "cell_type": "code",
   "execution_count": 10,
   "metadata": {},
   "outputs": [
    {
     "name": "stdout",
     "output_type": "stream",
     "text": [
      "True\n",
      "False\n",
      "False\n",
      "A is greather than b\n",
      "True\n",
      "True\n",
      "True\n",
      "True\n",
      "other example\n",
      "False\n",
      "True\n",
      "YES!\n",
      "True\n"
     ]
    }
   ],
   "source": [
    "#Python Booleans\n",
    "#Boolean Value\n",
    "print(10 >9)\n",
    "print (10 == 9)\n",
    "print(10 <9)\n",
    "\n",
    "a= 100\n",
    "b=32\n",
    "if b > a:\n",
    "    print(\"B greather than a\")\n",
    "else:\n",
    "    print(\"A is greather than b\")\n",
    "\n",
    "#Evaluated Value\n",
    "print(bool(\"hello\"))\n",
    "print(bool(15))\n",
    "\n",
    "x = \"Hello\"\n",
    "y = 15\n",
    "\n",
    "print(bool(x))\n",
    "print(bool(y))\n",
    "bool(False)\n",
    "bool(None)\n",
    "bool(0)\n",
    "bool(\"\")\n",
    "bool(())\n",
    "bool([])\n",
    "bool({})\n",
    "\n",
    "#Other example\n",
    "class mycalss():\n",
    "    def __len__(self):\n",
    "        return 0\n",
    "\n",
    "myobj = mycalss()\n",
    "print(\"other example\")\n",
    "print(bool(myobj))\n",
    "\n",
    "#Functions can Return a Boolean\n",
    "def myFunction():\n",
    "    return True\n",
    "print(myFunction())\n",
    "\n",
    "def myFunction() :\n",
    "  return True\n",
    "\n",
    "if myFunction():\n",
    "  print(\"YES!\")\n",
    "else:\n",
    "  print(\"NO!\")\n",
    "\n",
    "#Python is instance() function\n",
    "x = 200\n",
    "print(isinstance(x, int))"
   ]
  }
 ],
 "metadata": {
  "kernelspec": {
   "display_name": "Python 3",
   "language": "python",
   "name": "python3"
  },
  "language_info": {
   "codemirror_mode": {
    "name": "ipython",
    "version": 3
   },
   "file_extension": ".py",
   "mimetype": "text/x-python",
   "name": "python",
   "nbconvert_exporter": "python",
   "pygments_lexer": "ipython3",
   "version": "3.11.4"
  },
  "orig_nbformat": 4
 },
 "nbformat": 4,
 "nbformat_minor": 2
}
